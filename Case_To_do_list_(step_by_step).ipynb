{
  "nbformat": 4,
  "nbformat_minor": 0,
  "metadata": {
    "colab": {
      "provenance": [],
      "authorship_tag": "ABX9TyMRd3YIk1xITbB3XrXxYBEE"
    },
    "kernelspec": {
      "name": "python3",
      "display_name": "Python 3"
    },
    "language_info": {
      "name": "python"
    }
  },
  "cells": [
    {
      "cell_type": "markdown",
      "source": [
        "This case is a simple example of using Python.\n",
        "\n",
        "It is a control of activities to be done and their respective priorities.\n",
        "\n",
        "> Difficult: easy"
      ],
      "metadata": {
        "id": "6valHGzL7oCd"
      }
    },
    {
      "cell_type": "markdown",
      "source": [
        "## Step 1"
      ],
      "metadata": {
        "id": "nZOvUO0kN6rU"
      }
    },
    {
      "cell_type": "code",
      "execution_count": 1,
      "metadata": {
        "colab": {
          "base_uri": "https://localhost:8080/"
        },
        "id": "pFJ2XuxD7IXj",
        "outputId": "f1cbf360-d3db-4f2d-ed74-1c6855989631"
      },
      "outputs": [
        {
          "output_type": "stream",
          "name": "stdout",
          "text": [
            "Task to do: Study\n",
            "Your task was add to your list\n",
            "Tasks:  Study\n"
          ]
        }
      ],
      "source": [
        "# Let's start asking the first item\n",
        "\n",
        "task = input('Task to do: ')\n",
        "print('Your task was add to your list')\n",
        "print('Tasks: ', task)"
      ]
    },
    {
      "cell_type": "markdown",
      "source": [
        "## Step 2"
      ],
      "metadata": {
        "id": "MeWEu5ENN9oG"
      }
    },
    {
      "cell_type": "code",
      "source": [
        "# Let's try to do it repetitive\n",
        "\n",
        "while True:\n",
        "  option = input('Task to do: (or type \"exit\") ')\n",
        "  if option.lower() == 'exit':\n",
        "    break\n",
        "  task = option\n",
        "  print('Your task was add to your list')\n",
        "  print('Tasks: ', task)"
      ],
      "metadata": {
        "colab": {
          "base_uri": "https://localhost:8080/"
        },
        "id": "J0LCG_qbOKm3",
        "outputId": "e43be557-2196-4584-99ef-b322af1f11e0"
      },
      "execution_count": 2,
      "outputs": [
        {
          "name": "stdout",
          "output_type": "stream",
          "text": [
            "Task to do: (or type \"exit\") Study\n",
            "Your task was add to your list\n",
            "Tasks:  Study\n",
            "Task to do: (or type \"exit\") Clean\n",
            "Your task was add to your list\n",
            "Tasks:  Clean\n",
            "Task to do: (or type \"exit\") exit\n"
          ]
        }
      ]
    },
    {
      "cell_type": "markdown",
      "source": [
        "## Step 3"
      ],
      "metadata": {
        "id": "GnZH4rsBZxk0"
      }
    },
    {
      "cell_type": "code",
      "source": [
        "# Let's save the tasks on a list\n",
        "\n",
        "tasks = []\n",
        "\n",
        "while True:\n",
        "  option = input('Task to do: (or type \"exit\") ')\n",
        "  if option.lower() == 'exit':\n",
        "    break\n",
        "  task = option\n",
        "  tasks.append(task)\n",
        "  print('Your task %s was add to your list', task)\n",
        "  print('Tasks: ', tasks)"
      ],
      "metadata": {
        "id": "B_FKzFjkZ1DT",
        "colab": {
          "base_uri": "https://localhost:8080/"
        },
        "outputId": "9d040611-5240-4785-da24-0fb35fe05863"
      },
      "execution_count": 3,
      "outputs": [
        {
          "name": "stdout",
          "output_type": "stream",
          "text": [
            "Task to do: (or type \"exit\") Study\n",
            "Your task %s was add to your list Study\n",
            "Tasks:  ['Study']\n",
            "Task to do: (or type \"exit\") Clean\n",
            "Your task %s was add to your list Clean\n",
            "Tasks:  ['Study', 'Clean']\n",
            "Task to do: (or type \"exit\") exit\n"
          ]
        }
      ]
    },
    {
      "cell_type": "markdown",
      "source": [
        "## Step 4"
      ],
      "metadata": {
        "id": "tmNyd3SYcgBQ"
      }
    },
    {
      "cell_type": "code",
      "source": [
        "# Add Menu\n",
        "\n",
        "tasks = []\n",
        "\n",
        "while True:\n",
        "  print('*** Choose your option ***')\n",
        "  print('1. Add task')\n",
        "  print('2. View tasks')\n",
        "  print('3. Remove task')\n",
        "  print('4. Exit')\n",
        "  option = input('Option: ')\n",
        "\n",
        "  if option == '1':\n",
        "    task = input('Task to do: ')\n",
        "    tasks.append(task)\n",
        "    print('Your task %s was add to your list' %(task))\n",
        "\n",
        "  elif option == '2':\n",
        "    for task in tasks:\n",
        "      print('- ', task)\n",
        "\n",
        "  elif option == '3':\n",
        "    task = input('Task to remove: ')\n",
        "    if task in tasks:\n",
        "      tasks.remove(task)\n",
        "      print('Your task %s was removed from your list' %(task))\n",
        "    else:\n",
        "      print('%s doent exist in your list' %(task))\n",
        "\n",
        "  elif option == '4':\n",
        "    print('Exiting...')\n",
        "    break\n",
        "  else:\n",
        "    print('Invalid option')"
      ],
      "metadata": {
        "colab": {
          "base_uri": "https://localhost:8080/"
        },
        "id": "SM5Tyj_OchYa",
        "outputId": "42db3982-5a7d-494b-9f19-9d2be77978c2"
      },
      "execution_count": 4,
      "outputs": [
        {
          "output_type": "stream",
          "name": "stdout",
          "text": [
            "*** Choose your option ***\n",
            "1. Add task\n",
            "2. View tasks\n",
            "3. Remove task\n",
            "4. Exit\n",
            "Option: 1\n",
            "Task to do: Study\n",
            "Your task Study was add to your list\n",
            "*** Choose your option ***\n",
            "1. Add task\n",
            "2. View tasks\n",
            "3. Remove task\n",
            "4. Exit\n",
            "Option: 1\n",
            "Task to do: Clean\n",
            "Your task Clean was add to your list\n",
            "*** Choose your option ***\n",
            "1. Add task\n",
            "2. View tasks\n",
            "3. Remove task\n",
            "4. Exit\n",
            "Option: 3\n",
            "Task to remove: Clean\n",
            "Your task Clean was removed from your list\n",
            "*** Choose your option ***\n",
            "1. Add task\n",
            "2. View tasks\n",
            "3. Remove task\n",
            "4. Exit\n",
            "Option: 2\n",
            "-  Study\n",
            "*** Choose your option ***\n",
            "1. Add task\n",
            "2. View tasks\n",
            "3. Remove task\n",
            "4. Exit\n",
            "Option: 4\n",
            "Exiting...\n"
          ]
        }
      ]
    },
    {
      "cell_type": "markdown",
      "source": [
        "## Step 5"
      ],
      "metadata": {
        "id": "wftdeby52CHS"
      }
    },
    {
      "cell_type": "code",
      "source": [
        "# Add priorities using dictionary\n",
        "\n",
        "tasks = []\n",
        "\n",
        "while True:\n",
        "  print('*** Choose your option ***')\n",
        "  print('1. Add task')\n",
        "  print('2. View tasks')\n",
        "  print('3. Remove task')\n",
        "  print('4. Exit')\n",
        "  option = input('Option: ')\n",
        "\n",
        "  if option == '1':\n",
        "    taskName = input('Task to do: ')\n",
        "    taskPriority = input('Priority: ')\n",
        "\n",
        "    task = {\n",
        "      'name': taskName,\n",
        "      'priority': taskPriority\n",
        "    }\n",
        "\n",
        "    tasks.append(task)\n",
        "    print(f\"Your task {task['name']} was add to your list\")\n",
        "\n",
        "  elif option == '2':\n",
        "    for task in tasks:\n",
        "      print(f\"- {task['name']}. Priority: {task['priority']}\")\n",
        "\n",
        "  elif option == '3':\n",
        "    taskName = input('Task to remove: ')\n",
        "    for task in tasks:\n",
        "      if task['name'] == taskName:\n",
        "        tasks.remove(task)\n",
        "        print('Your task %s was removed from your list' %(task))\n",
        "        break\n",
        "    else:\n",
        "      print('It doent exist in your list')\n",
        "\n",
        "  elif option == '4':\n",
        "    print('Exiting...')\n",
        "    break\n",
        "  else:\n",
        "    print('Invalid option')"
      ],
      "metadata": {
        "colab": {
          "base_uri": "https://localhost:8080/"
        },
        "id": "dsV4Llyt2Db6",
        "outputId": "531802fe-a1e4-4698-b53d-11a898790a2b"
      },
      "execution_count": 5,
      "outputs": [
        {
          "output_type": "stream",
          "name": "stdout",
          "text": [
            "*** Choose your option ***\n",
            "1. Add task\n",
            "2. View tasks\n",
            "3. Remove task\n",
            "4. Exit\n",
            "Option: 1\n",
            "Task to do: Study\n",
            "Priority: 5\n",
            "Your task Study was add to your list\n",
            "*** Choose your option ***\n",
            "1. Add task\n",
            "2. View tasks\n",
            "3. Remove task\n",
            "4. Exit\n",
            "Option: 1\n",
            "Task to do: Clean\n",
            "Priority: 3\n",
            "Your task Clean was add to your list\n",
            "*** Choose your option ***\n",
            "1. Add task\n",
            "2. View tasks\n",
            "3. Remove task\n",
            "4. Exit\n",
            "Option: 4\n",
            "Exiting...\n"
          ]
        }
      ]
    },
    {
      "cell_type": "markdown",
      "source": [
        "## Step 6"
      ],
      "metadata": {
        "id": "wtJyvSPBPB70"
      }
    },
    {
      "cell_type": "code",
      "source": [
        "# Organizing with functions\n",
        "\n",
        "tasks = []\n",
        "\n",
        "# Function to add a task\n",
        "def addTask(taskName, taskPriority):\n",
        "  task = {\n",
        "    'name': taskName,\n",
        "    'priority': taskPriority\n",
        "  }\n",
        "  tasks.append(task)\n",
        "  print(f\"Your task {task['name']} was add to your list\")\n",
        "\n",
        "# Function to list tasks\n",
        "def listTasks():\n",
        "  for task in tasks:\n",
        "    print(f\"- {task['name']}. Priority: {task['priority']}\")\n",
        "\n",
        "# Function to remove task\n",
        "def removeTask(taskName):\n",
        "  for task in tasks:\n",
        "    if task['name'] == taskName:\n",
        "      tasks.remove(task)\n",
        "      print('Your task %s was removed from your list' %(task))\n",
        "      break\n",
        "  else:\n",
        "    print('It doent exist in your list')\n",
        "\n",
        "# Main\n",
        "while True:\n",
        "  print('*** Choose your option ***')\n",
        "  print('1. Add task')\n",
        "  print('2. View tasks')\n",
        "  print('3. Remove task')\n",
        "  print('4. Exit')\n",
        "  option = input('Option: ')\n",
        "\n",
        "  if option == '1':\n",
        "    taskName = input('Task to do: ')\n",
        "    taskPriority = input('Priority: ')\n",
        "    addTask(taskName, taskPriority)\n",
        "\n",
        "  elif option == '2':\n",
        "    listTasks()\n",
        "\n",
        "  elif option == '3':\n",
        "    taskName = input('Task to remove: ')\n",
        "    removeTask(taskName)\n",
        "\n",
        "  elif option == '4':\n",
        "    print('Exiting...')\n",
        "    break\n",
        "\n",
        "  else:\n",
        "    print('Invalid option')"
      ],
      "metadata": {
        "colab": {
          "base_uri": "https://localhost:8080/"
        },
        "id": "3wCUSSYlPHpp",
        "outputId": "a67af373-b3b2-4b59-94af-4330c6c7d97c"
      },
      "execution_count": 6,
      "outputs": [
        {
          "output_type": "stream",
          "name": "stdout",
          "text": [
            "*** Choose your option ***\n",
            "1. Add task\n",
            "2. View tasks\n",
            "3. Remove task\n",
            "4. Exit\n",
            "Option: 1\n",
            "Task to do: Study\n",
            "Priority: 5\n",
            "Your task Study was add to your list\n",
            "*** Choose your option ***\n",
            "1. Add task\n",
            "2. View tasks\n",
            "3. Remove task\n",
            "4. Exit\n",
            "Option: 1\n",
            "Task to do: Clean\n",
            "Priority: 3\n",
            "Your task Clean was add to your list\n",
            "*** Choose your option ***\n",
            "1. Add task\n",
            "2. View tasks\n",
            "3. Remove task\n",
            "4. Exit\n",
            "Option: 2\n",
            "- Study. Priority: 5\n",
            "- Clean. Priority: 3\n",
            "*** Choose your option ***\n",
            "1. Add task\n",
            "2. View tasks\n",
            "3. Remove task\n",
            "4. Exit\n",
            "Option: 4\n",
            "Exiting...\n"
          ]
        }
      ]
    },
    {
      "cell_type": "markdown",
      "source": [
        "## Step 7"
      ],
      "metadata": {
        "id": "_Kw67e-peHIC"
      }
    },
    {
      "cell_type": "code",
      "source": [
        "# Saving file\n",
        "\n",
        "import json\n",
        "\n",
        "def saveTasks():\n",
        "  with open('tasks to do.json', 'w') as file:\n",
        "    json.dump(tasks, file)\n",
        "  print('Saved!')\n",
        "\n",
        "def loadTasks():\n",
        "  try:\n",
        "    with open('tasks to do.json', 'r') as file:\n",
        "      tasks = json.load(file)\n",
        "    print('Loaded!')\n",
        "    return tasks\n",
        "  except:\n",
        "    print('File not found. Starting a new one')\n",
        "    return []\n",
        "\n",
        "# Function to add a task\n",
        "def addTask(taskName, taskPriority):\n",
        "  task = {\n",
        "    'name': taskName,\n",
        "    'priority': taskPriority\n",
        "  }\n",
        "  tasks.append(task)\n",
        "  print(f\"Your task {task['name']} was add to your list\")\n",
        "\n",
        "# Function to list tasks\n",
        "def listTasks():\n",
        "  for task in tasks:\n",
        "    print(f\"- {task['name']}. Priority: {task['priority']}\")\n",
        "\n",
        "# Function to remove task\n",
        "def removeTask(taskName):\n",
        "  for task in tasks:\n",
        "    if task['name'] == taskName:\n",
        "      tasks.remove(task)\n",
        "      print('Your task %s was removed from your list' %(task))\n",
        "      break\n",
        "  else:\n",
        "    print('It doent exist in your list')\n",
        "\n",
        "# Main\n",
        "\n",
        "tasks = loadTasks()\n",
        "while True:\n",
        "  print('\\n*** Choose your option ***')\n",
        "  print('1. Add task')\n",
        "  print('2. View tasks')\n",
        "  print('3. Remove task')\n",
        "  print('4. Save')\n",
        "  print('5. Exit')\n",
        "  option = input('Option: ')\n",
        "\n",
        "  if option == '1':\n",
        "    taskName = input('Task to do: ')\n",
        "    taskPriority = input('Priority: ')\n",
        "    addTask(taskName, taskPriority)\n",
        "\n",
        "  elif option == '2':\n",
        "    listTasks()\n",
        "\n",
        "  elif option == '3':\n",
        "    taskName = input('Task to remove: ')\n",
        "    removeTask(taskName)\n",
        "\n",
        "  elif option == '4':\n",
        "    saveTasks()\n",
        "\n",
        "  elif option == '5':\n",
        "    print('Exiting...')\n",
        "    break\n",
        "\n",
        "  else:\n",
        "    print('Invalid option')"
      ],
      "metadata": {
        "colab": {
          "base_uri": "https://localhost:8080/"
        },
        "id": "Kjnc8hSzeGq6",
        "outputId": "b32d159d-8d46-48de-d826-cbd9431b3d64"
      },
      "execution_count": 10,
      "outputs": [
        {
          "output_type": "stream",
          "name": "stdout",
          "text": [
            "File not found. Starting a new one\n",
            "\n",
            "*** Choose your option ***\n",
            "1. Add task\n",
            "2. View tasks\n",
            "3. Remove task\n",
            "4. Save\n",
            "5. Exit\n",
            "Option: 1\n",
            "Task to do: Study\n",
            "Priority: 5\n",
            "Your task Study was add to your list\n",
            "\n",
            "*** Choose your option ***\n",
            "1. Add task\n",
            "2. View tasks\n",
            "3. Remove task\n",
            "4. Save\n",
            "5. Exit\n",
            "Option: 1\n",
            "Task to do: Clean\n",
            "Priority: 3\n",
            "Your task Clean was add to your list\n",
            "\n",
            "*** Choose your option ***\n",
            "1. Add task\n",
            "2. View tasks\n",
            "3. Remove task\n",
            "4. Save\n",
            "5. Exit\n",
            "Option: 2\n",
            "- Study. Priority: 5\n",
            "- Clean. Priority: 3\n",
            "\n",
            "*** Choose your option ***\n",
            "1. Add task\n",
            "2. View tasks\n",
            "3. Remove task\n",
            "4. Save\n",
            "5. Exit\n",
            "Option: 3\n",
            "Task to remove: Clean\n",
            "Your task {'name': 'Clean', 'priority': '3'} was removed from your list\n",
            "\n",
            "*** Choose your option ***\n",
            "1. Add task\n",
            "2. View tasks\n",
            "3. Remove task\n",
            "4. Save\n",
            "5. Exit\n",
            "Option: 2\n",
            "- Study. Priority: 5\n",
            "\n",
            "*** Choose your option ***\n",
            "1. Add task\n",
            "2. View tasks\n",
            "3. Remove task\n",
            "4. Save\n",
            "5. Exit\n",
            "Option: 4\n",
            "Saved!\n",
            "\n",
            "*** Choose your option ***\n",
            "1. Add task\n",
            "2. View tasks\n",
            "3. Remove task\n",
            "4. Save\n",
            "5. Exit\n",
            "Option: 5\n",
            "Exiting...\n"
          ]
        }
      ]
    }
  ]
}